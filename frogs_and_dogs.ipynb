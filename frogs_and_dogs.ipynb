{
 "cells": [
  {
   "cell_type": "code",
   "execution_count": 1,
   "metadata": {},
   "outputs": [],
   "source": [
    "import sys\n",
    "import pyperclip\n",
    "from selenium import webdriver\n",
    "from selenium.webdriver.common.by import By\n",
    "from selenium.webdriver.common.keys import Keys\n",
    "from selenium.webdriver.chrome.service import Service\n",
    "from webdriver_manager.chrome import ChromeDriverManager\n",
    "\n",
    "sys.dont_write_bytecode = True\n",
    "from froggos.get_activities_from_html import get_activities_from_html\n",
    "from froggos.get_athlete_from_html import get_athlete_from_html\n",
    "from froggos.get_weekday_from_html import get_weekday_from_html\n",
    "from froggos.get_milesplits_from_html import get_milesplits_from_html\n",
    "from froggos.get_comment_from_milesplits import get_comment_from_milesplits"
   ]
  },
  {
   "cell_type": "code",
   "execution_count": 2,
   "metadata": {},
   "outputs": [],
   "source": [
    "# launch selenium and manually log in to strava and navigate to athlete page\n",
    "def launch_selenium_driver():\n",
    "    return webdriver.Chrome(service=Service(ChromeDriverManager().install()))\n",
    "\n",
    "def get_element(xpath):\n",
    "    return driver.find_element(By.XPATH, xpath)\n",
    "\n",
    "driver = launch_selenium_driver()\n",
    "driver.get('https://www.weather.gov/')"
   ]
  },
  {
   "cell_type": "code",
   "execution_count": null,
   "metadata": {},
   "outputs": [],
   "source": [
    "# verify list activities on athlete page works, then manually navigate to an activity\n",
    "html = driver.page_source\n",
    "activities = get_activities_from_html(html)\n",
    "print(activities)"
   ]
  },
  {
   "cell_type": "code",
   "execution_count": null,
   "metadata": {},
   "outputs": [],
   "source": [
    "# verify we can read athlete name and weekday on activity page\n",
    "html = driver.page_source\n",
    "athlete = get_athlete_from_html(html)\n",
    "weekday = get_weekday_from_html(html)\n",
    "print(athlete)\n",
    "print(weekday)"
   ]
  },
  {
   "cell_type": "code",
   "execution_count": null,
   "metadata": {},
   "outputs": [],
   "source": [
    "# verify we can read milesplits on activity page works\n",
    "milesplits_xpath = \"/html/body/div[1]/div[3]/div/section/div[1]/div[1]/div\"\n",
    "milesplits_element = get_element(milesplits_xpath)\n",
    "milesplits_html = milesplits_element.get_attribute('innerHTML')\n",
    "milesplits = get_milesplits_from_html(milesplits_html)\n",
    "comment = get_comment_from_milesplits(milesplits)\n",
    "print(comment)"
   ]
  },
  {
   "cell_type": "code",
   "execution_count": null,
   "metadata": {},
   "outputs": [],
   "source": [
    "# copy comment to clipboard\n",
    "pyperclip.copy(comment)"
   ]
  },
  {
   "cell_type": "code",
   "execution_count": null,
   "metadata": {},
   "outputs": [],
   "source": [
    "# verify click to open comment window works\n",
    "comment_button_xpath = \"/html/body/div[1]/div[3]/section/header/div/div[2]/span/div/div/button\"\n",
    "comment_button_element = get_element(comment_button_xpath)\n",
    "comment_button_element.click()"
   ]
  },
  {
   "cell_type": "code",
   "execution_count": null,
   "metadata": {},
   "outputs": [],
   "source": [
    "# verify paste of clipboard content works\n",
    "comment_area_xpath = \"/html/body/reach-portal/div[2]/div/div/div/div[2]/div[2]/div[2]/div/div[2]/div/div[2]/div/textarea\"\n",
    "comment_area_element = get_element(comment_area_xpath)\n",
    "comment_area_element.send_keys(Keys.CONTROL + 'v')"
   ]
  },
  {
   "cell_type": "code",
   "execution_count": null,
   "metadata": {},
   "outputs": [],
   "source": [
    "# verify comment submission works\n",
    "comment_submit_xpath = \"/html/body/reach-portal/div[2]/div/div/div/div[2]/div[2]/div[2]/div/div[2]/div/div[3]/button\"\n",
    "comment_submit_element = get_element(comment_submit_xpath)\n",
    "comment_submit_element.click()"
   ]
  }
 ],
 "metadata": {
  "kernelspec": {
   "display_name": "FrogsDogsAndDougos",
   "language": "python",
   "name": "python3"
  },
  "language_info": {
   "codemirror_mode": {
    "name": "ipython",
    "version": 3
   },
   "file_extension": ".py",
   "mimetype": "text/x-python",
   "name": "python",
   "nbconvert_exporter": "python",
   "pygments_lexer": "ipython3",
   "version": "3.9.5"
  }
 },
 "nbformat": 4,
 "nbformat_minor": 2
}

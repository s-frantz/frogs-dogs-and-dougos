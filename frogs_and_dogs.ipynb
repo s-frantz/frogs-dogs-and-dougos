{
 "cells": [
  {
   "cell_type": "code",
   "execution_count": 1,
   "metadata": {},
   "outputs": [],
   "source": [
    "import sys\n",
    "import os\n",
    "import time\n",
    "import random\n",
    "from dotenv import load_dotenv\n",
    "from selenium import webdriver\n",
    "from selenium.webdriver.common.by import By\n",
    "from selenium.webdriver.common.keys import Keys\n",
    "from selenium.webdriver.chrome.service import Service\n",
    "from webdriver_manager.chrome import ChromeDriverManager\n",
    "\n",
    "sys.dont_write_bytecode = True\n",
    "from utils.get_activities_from_html import get_activities_from_html"
   ]
  },
  {
   "cell_type": "code",
   "execution_count": 2,
   "metadata": {},
   "outputs": [],
   "source": [
    "def launch_selenium_driver():\n",
    "    return webdriver.Chrome(service=Service(ChromeDriverManager().install()))\n",
    "\n",
    "driver = launch_selenium_driver()"
   ]
  },
  {
   "cell_type": "code",
   "execution_count": 3,
   "metadata": {},
   "outputs": [],
   "source": [
    "driver.get('https://www.weather.gov/')"
   ]
  },
  {
   "cell_type": "code",
   "execution_count": 13,
   "metadata": {},
   "outputs": [],
   "source": [
    "frog = '🐸'\n",
    "dog = '🐕'\n",
    "\n",
    "input_xpath = '/html/body/div[4]/div[2]/div[1]/div[1]/div/form/input[1]'\n",
    "\n",
    "text_element = driver.find_element(By.XPATH, input_xpath)\n",
    "\n",
    "driver.execute_script(\"arguments[0].value = '{}';\".format(frog + dog), text_element)\n",
    "#text_element.send_keys('.')\n",
    "#text_element.send_keys(Keys.BACKSPACE)"
   ]
  },
  {
   "cell_type": "code",
   "execution_count": 6,
   "metadata": {},
   "outputs": [],
   "source": [
    "def paste_content(driver, el, content):\n",
    "    driver.execute_script(\n",
    "      f'''\n",
    "const text = `{content}`;\n",
    "const dataTransfer = new DataTransfer();\n",
    "dataTransfer.setData('text', text);\n",
    "const event = new ClipboardEvent('paste', {{\n",
    "  clipboardData: dataTransfer,\n",
    "  bubbles: true\n",
    "}});\n",
    "arguments[0].dispatchEvent(event)\n",
    "''',\n",
    "      el)\n",
    "\n",
    "# Find the input box\n",
    "input_el = driver.find_element(By.XPATH, input_xpath)\n",
    "paste_content(driver, input_el, sun)"
   ]
  }
 ],
 "metadata": {
  "kernelspec": {
   "display_name": "FrogsDogsAndDougos",
   "language": "python",
   "name": "python3"
  },
  "language_info": {
   "codemirror_mode": {
    "name": "ipython",
    "version": 3
   },
   "file_extension": ".py",
   "mimetype": "text/x-python",
   "name": "python",
   "nbconvert_exporter": "python",
   "pygments_lexer": "ipython3",
   "version": "3.9.5"
  }
 },
 "nbformat": 4,
 "nbformat_minor": 2
}
